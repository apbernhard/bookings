{
 "cells": [
  {
   "cell_type": "markdown",
   "metadata": {},
   "source": [
    "# Parser"
   ]
  },
  {
   "cell_type": "code",
   "execution_count": 2,
   "metadata": {},
   "outputs": [],
   "source": [
    "from bs4 import BeautifulSoup\n",
    "from datetime import datetime\n",
    "import pandas as pd\n",
    "\n",
    "input_file = 'input_data/bookings.html'\n",
    "\n",
    "with open(input_file, 'r', encoding='utf-8') as infile:\n",
    "    input_text = infile.read()\n",
    "\n",
    "soup = BeautifulSoup(input_text, 'lxml')\n",
    "\n",
    "\n",
    "bookings = soup.findAll('div', {'class': 'e83c0a1d59'})"
   ]
  },
  {
   "cell_type": "markdown",
   "metadata": {},
   "source": [
    "## Extract Bookings"
   ]
  },
  {
   "cell_type": "code",
   "execution_count": 3,
   "metadata": {},
   "outputs": [],
   "source": [
    "bookings_overview = []\n",
    "for booking in bookings:\n",
    "    # Hotel\n",
    "    hotel = booking.find('h3').text\n",
    "    \n",
    "    # find dates, number of rooms and place\n",
    "    date_rooms_place = booking.find('div', {'class': 'f660aace8b a914c714f2'})\n",
    "\n",
    "    spans = date_rooms_place.findAll('span')\n",
    "    # Unpack date, rooms (if available), and place\n",
    "    date = spans[0].text\n",
    "    place = spans[-1].text  # Always the last span\n",
    "    rooms = spans[1].text.split()[0] if len(spans) > 2 else 1  # Only if available\n",
    "\n",
    "    # split and parse dates \n",
    "    date_from_str, date_to_str = date.replace(' ', '').split('–')\n",
    "    date_from = datetime.strptime(date_from_str, '%d%b%Y')\n",
    "    date_to = datetime.strptime(date_to_str, '%d%b%Y')\n",
    "\n",
    "    # extract status and link\n",
    "    status = date_rooms_place.nextSibling.text\n",
    "    link = booking.find('a').get('href')\n",
    "\n",
    "    # hier folgt in der Testumgebung die Waehrungsbezeichnung auf die Zahl. In der Echtanwendung ist es andersrum! also [1]!\n",
    "    price = booking.find('div', {'class': 'f6431b446c f660aace8b'}).text.split()[0]\n",
    "\n",
    "    # print formatted output\n",
    "    bookings_overview.append([place, hotel, date_from.strftime('%Y-%m-%d'), date_to.strftime('%Y-%m-%d'), rooms, status, price, link])"
   ]
  },
  {
   "cell_type": "markdown",
   "metadata": {},
   "source": [
    "## Store Bookings to CSV"
   ]
  },
  {
   "cell_type": "code",
   "execution_count": 4,
   "metadata": {},
   "outputs": [],
   "source": [
    "bookings_df = pd.DataFrame(bookings_overview, columns=['Ort', 'Hotel', 'Von', 'Bis', 'Zimmer', 'Status', 'Preis', 'Link'])\n",
    "bookings_df.to_csv('output_data/bookings_overview.csv', index=False)"
   ]
  }
 ],
 "metadata": {
  "kernelspec": {
   "display_name": "Python 3",
   "language": "python",
   "name": "python3"
  },
  "language_info": {
   "codemirror_mode": {
    "name": "ipython",
    "version": 3
   },
   "file_extension": ".py",
   "mimetype": "text/x-python",
   "name": "python",
   "nbconvert_exporter": "python",
   "pygments_lexer": "ipython3",
   "version": "3.12.7"
  }
 },
 "nbformat": 4,
 "nbformat_minor": 2
}
